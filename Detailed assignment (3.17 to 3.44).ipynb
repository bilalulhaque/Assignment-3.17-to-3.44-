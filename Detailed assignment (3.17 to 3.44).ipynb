{
 "cells": [
  {
   "cell_type": "code",
   "execution_count": 4,
   "metadata": {},
   "outputs": [
    {
     "name": "stdout",
     "output_type": "stream",
     "text": [
      "7\n",
      "hello\n",
      "hello world!\n",
      "2\n"
     ]
    }
   ],
   "source": [
    "#PRACTICE PROBLEM 3.17\n",
    "hello=\"hello\"\n",
    "print(eval('2 * 3 + 1'))\n",
    "print(eval(\"hello\"))\n",
    "print(eval( \"'hello' + ' ' + 'world!'\"))\n",
    "print(eval(\"'ASCII'.count('I')\"))\n",
    "#'x=5' is a statement"
   ]
  },
  {
   "cell_type": "code",
   "execution_count": 5,
   "metadata": {},
   "outputs": [
    {
     "name": "stdout",
     "output_type": "stream",
     "text": [
      "ok\n"
     ]
    }
   ],
   "source": [
    "#PRACTICE PROBLEM 3.18\n",
    "a,b,c=3,4,5\n",
    "if(a<b):\n",
    "    print(\"ok\")\n",
    "if(c<b):\n",
    "    print(\"ok\")\n",
    "if((a+b)==c):\n",
    "    print(\"ok\")\n",
    "if((a+b)**2==c):\n",
    "    print(\"ok\")"
   ]
  },
  {
   "cell_type": "code",
   "execution_count": 6,
   "metadata": {},
   "outputs": [
    {
     "name": "stdout",
     "output_type": "stream",
     "text": [
      "ok\n",
      "Not ok\n",
      "Not ok\n",
      "Not ok\n"
     ]
    }
   ],
   "source": [
    "#PRACTICE PROBLEM 3.19\n",
    "a,b,c=3,4,5\n",
    "if(a<b):\n",
    "    print(\"ok\")\n",
    "else:\n",
    "    print(\"Not ok\")\n",
    "if(c<b):\n",
    "    print(\"ok\")\n",
    "else:\n",
    "    print(\"Not ok\")\n",
    "if((a+b)==c):\n",
    "    print(\"ok\")\n",
    "else:\n",
    "    print(\"Not ok\")\n",
    "if((a+b)**2==c):\n",
    "    print(\"ok\")\n",
    "else:\n",
    "    print(\"Not ok\")"
   ]
  },
  {
   "cell_type": "code",
   "execution_count": 7,
   "metadata": {},
   "outputs": [
    {
     "name": "stdout",
     "output_type": "stream",
     "text": [
      "Jan\n",
      "Feb\n",
      "Mar\n"
     ]
    }
   ],
   "source": [
    "#PRACTICE PROBLEM 3.20\n",
    "lst=[\"January\",\"February\",\"March\"]\n",
    "for char in lst:\n",
    "    print(char[:3:])"
   ]
  },
  {
   "cell_type": "code",
   "execution_count": 8,
   "metadata": {},
   "outputs": [
    {
     "name": "stdout",
     "output_type": "stream",
     "text": [
      "2\n",
      "4\n",
      "6\n",
      "8\n"
     ]
    }
   ],
   "source": [
    "#PRACTICE PROBLEM 3.21\n",
    "lst=[2,3,4,5,6,7,8,9]\n",
    "for even in lst:\n",
    "    if (even%2==0):\n",
    "        print(even)"
   ]
  },
  {
   "cell_type": "code",
   "execution_count": 9,
   "metadata": {},
   "outputs": [
    {
     "name": "stdout",
     "output_type": "stream",
     "text": [
      "4\n",
      "8\n"
     ]
    }
   ],
   "source": [
    "#PROBLEM 3.22\n",
    "lst=[2,3,4,5,6,7,8,9]\n",
    "for i  in lst:\n",
    "    if (i**2%8==0):\n",
    "        print(i)"
   ]
  },
  {
   "cell_type": "code",
   "execution_count": 15,
   "metadata": {},
   "outputs": [
    {
     "name": "stdout",
     "output_type": "stream",
     "text": [
      "0 1 \u0007\n",
      "0 \u0007\n",
      "3 4 5 6 \u0007\n",
      "1 \u0007\n",
      "0 3 \u0007\n",
      "5 9 13 17 21 "
     ]
    }
   ],
   "source": [
    "#PROBLEM 3.23\n",
    "for i in range (2):\n",
    "    print(i,end=\" \")\n",
    "print(\"\\a\")\n",
    "for i in range (1):\n",
    "    print(i,end=\" \")\n",
    "print(\"\\a\")\n",
    "for i in range (3,7):\n",
    "    print(i,end=\" \")\n",
    "print(\"\\a\")\n",
    "for i in [x for x in range(2) if x!=0]:\n",
    "    print(i,end=\" \")\n",
    "print(\"\\a\")\n",
    "for i in range(0,4,3):\n",
    "    print(i,end=\" \")\n",
    "print(\"\\a\")\n",
    "for i in range (5,22,4):\n",
    "    print(i,end=\" \")"
   ]
  },
  {
   "cell_type": "code",
   "execution_count": 16,
   "metadata": {},
   "outputs": [
    {
     "name": "stdout",
     "output_type": "stream",
     "text": [
      "cia\n",
      "mi6\n",
      "isi\n"
     ]
    }
   ],
   "source": [
    "#PROBLEM 3.24\n",
    "wordlist=['cia','secret','mi6','isi','secret']\n",
    "for i in wordlist:\n",
    "    if i!='secret':\n",
    "        print(i)"
   ]
  },
  {
   "cell_type": "code",
   "execution_count": 2,
   "metadata": {},
   "outputs": [
    {
     "name": "stdout",
     "output_type": "stream",
     "text": [
      "input the list of name['Ellie', 'Steve', 'Sam', 'Owen', 'Gavin']\n",
      "Ellie\n",
      "Sam\n",
      "Gavin\n"
     ]
    }
   ],
   "source": [
    "#PROBLEM 3.25\n",
    "wordList=eval(input(\"input the list of name\"))\n",
    "for i in wordList:\n",
    "    i.casefold()\n",
    "    if i[1] in \"abcdefghijklm\":\n",
    "        print(i)"
   ]
  },
  {
   "cell_type": "code",
   "execution_count": 3,
   "metadata": {},
   "outputs": [
    {
     "name": "stdout",
     "output_type": "stream",
     "text": [
      "Enter a list:[1,3,5,7,9]\n",
      "The first element in the list is 1\n",
      "The last element in the list is 9\n"
     ]
    }
   ],
   "source": [
    "#PROBLEM 3.26\n",
    "lst=eval(input(\"Enter a list:\"))\n",
    "print(\"The first element in the list is\",lst[0])\n",
    "print(\"The last element in the list is\",lst[-1])"
   ]
  },
  {
   "cell_type": "code",
   "execution_count": 4,
   "metadata": {},
   "outputs": [
    {
     "name": "stdout",
     "output_type": "stream",
     "text": [
      "Enter a positive integer n : 5\n",
      "0\n",
      "5\n",
      "10\n",
      "15\n"
     ]
    }
   ],
   "source": [
    "#PROBLEM 3.27\n",
    "n=eval(input(\"Enter a positive integer n : \"))\n",
    "for i in range (0,4):\n",
    "    print(i*n)"
   ]
  },
  {
   "cell_type": "code",
   "execution_count": 6,
   "metadata": {},
   "outputs": [
    {
     "name": "stdout",
     "output_type": "stream",
     "text": [
      "Enter an integer n : 3\n",
      "0\n",
      "1\n",
      "4\n"
     ]
    }
   ],
   "source": [
    "#PROBLEM 3.28\n",
    "n=eval(input(\"Enter an integer n : \"))\n",
    "for i in range (0,n):\n",
    "    print(i**2)"
   ]
  },
  {
   "cell_type": "code",
   "execution_count": 7,
   "metadata": {},
   "outputs": [
    {
     "name": "stdout",
     "output_type": "stream",
     "text": [
      "Enter a positive integer n : 49\n",
      "1\n",
      "7\n",
      "49\n"
     ]
    }
   ],
   "source": [
    "#PROBLEM 3.29\n",
    "n=eval(input(\"Enter a positive integer n : \"))\n",
    "for i in range (1,n+1):\n",
    "    if(n%i==0):\n",
    "        print(i)"
   ]
  },
  {
   "cell_type": "code",
   "execution_count": 12,
   "metadata": {},
   "outputs": [
    {
     "name": "stdout",
     "output_type": "stream",
     "text": [
      "Enter your first number:4.5\n",
      "Enter your second number:3\n",
      "Enter your third number:3\n",
      "Enter your fourth number:3.5\n",
      "Equal\n"
     ]
    }
   ],
   "source": [
    "#PROBLEM 3.30\n",
    "n1=eval(input(\"Enter your first number:\"))\n",
    "n2=eval(input(\"Enter your second number:\"))\n",
    "n3=eval(input(\"Enter your third number:\"))\n",
    "n4=eval(input(\"Enter your fourth number:\"))\n",
    "nt=(n1+n2+n3)/3\n",
    "if (nt==n4):\n",
    "    print(\"Equal\")"
   ]
  },
  {
   "cell_type": "code",
   "execution_count": 15,
   "metadata": {},
   "outputs": [
    {
     "name": "stdout",
     "output_type": "stream",
     "text": [
      "Enter the x-coordinate:2.5\n",
      "Enter the y-coordinate:4\n",
      "It is in!\n"
     ]
    }
   ],
   "source": [
    "#PROBLEM 3.31\n",
    "x=eval(input(\"Enter the x-coordinate:\"))\n",
    "y=eval(input(\"Enter the y-coordinate:\"))\n",
    "if(x<8 and y<8):\n",
    "    print(\"It is in!\")"
   ]
  },
  {
   "cell_type": "code",
   "execution_count": 18,
   "metadata": {},
   "outputs": [
    {
     "name": "stdout",
     "output_type": "stream",
     "text": [
      "Enter the four integers:1234\n",
      "1\n",
      "2\n",
      "3\n",
      "4\n"
     ]
    }
   ],
   "source": [
    "#PROBLEM 3.32\n",
    "a=eval(input(\"Enter the four integers:\"))\n",
    "lst=list(str(a))\n",
    "for i in lst:\n",
    "    print(i)"
   ]
  },
  {
   "cell_type": "code",
   "execution_count": 20,
   "metadata": {},
   "outputs": [
    {
     "data": {
      "text/plain": [
       "'cba'"
      ]
     },
     "execution_count": 20,
     "metadata": {},
     "output_type": "execute_result"
    }
   ],
   "source": [
    "#PROBLEM 3.33\n",
    "def reverse_string(x):\n",
    "    res=(x[::-1])\n",
    "    return res\n",
    "reverse_string('abc')"
   ]
  },
  {
   "cell_type": "code",
   "execution_count": 22,
   "metadata": {},
   "outputs": [
    {
     "data": {
      "text/plain": [
       "475.0"
      ]
     },
     "execution_count": 22,
     "metadata": {},
     "output_type": "execute_result"
    }
   ],
   "source": [
    "#PROBLEM 3.34\n",
    "sum=0\n",
    "def pay(x,y):\n",
    "    if y<40:\n",
    "        sum=x*y\n",
    "    else:\n",
    "        sum = x*40\n",
    "        sum += (x*1.5)*(y-40)\n",
    "        \n",
    "    return sum\n",
    "pay(10,35)\n",
    "pay(10,45)"
   ]
  },
  {
   "cell_type": "code",
   "execution_count": 2,
   "metadata": {},
   "outputs": [
    {
     "data": {
      "text/plain": [
       "0.5"
      ]
     },
     "execution_count": 2,
     "metadata": {},
     "output_type": "execute_result"
    }
   ],
   "source": [
    "#PROBLEM 3.35\n",
    "def prob(n):\n",
    "    res=2**-n\n",
    "    return res\n",
    "prob(1)"
   ]
  },
  {
   "cell_type": "code",
   "execution_count": 6,
   "metadata": {},
   "outputs": [
    {
     "data": {
      "text/plain": [
       "'321'"
      ]
     },
     "execution_count": 6,
     "metadata": {},
     "output_type": "execute_result"
    }
   ],
   "source": [
    "#PROBLEM 3.36\n",
    "def reverse_int(x):\n",
    "    res=(x[::-1])\n",
    "    return res\n",
    "reverse_int('123')"
   ]
  },
  {
   "cell_type": "code",
   "execution_count": 27,
   "metadata": {},
   "outputs": [
    {
     "name": "stdout",
     "output_type": "stream",
     "text": [
      "The slope is: 1.0\n",
      "The distance is: 1.4142135623730951\n"
     ]
    }
   ],
   "source": [
    "#PROBLEM 3.37\n",
    "import math\n",
    "def points(x1,y1,x2,y2):\n",
    "    slope=(y2-y1)/(x2-x1)\n",
    "    distance=math.sqrt(((x2-x1)**2)+(y2-y1)**2)\n",
    "    print(\"The slope is:\",slope)\n",
    "    print(\"The distance is:\",distance)\n",
    "points(0,0,1,1)"
   ]
  },
  {
   "cell_type": "code",
   "execution_count": 28,
   "metadata": {},
   "outputs": [
    {
     "data": {
      "text/plain": [
       "'Tu'"
      ]
     },
     "execution_count": 28,
     "metadata": {},
     "output_type": "execute_result"
    }
   ],
   "source": [
    "#PROBLEM 3.38\n",
    "def abbreviation(x):\n",
    "    res=(x[:2:])\n",
    "    return res\n",
    "abbreviation(\"Tuesday\")"
   ]
  },
  {
   "cell_type": "code",
   "execution_count": 29,
   "metadata": {},
   "outputs": [
    {
     "name": "stdout",
     "output_type": "stream",
     "text": [
      "True\n",
      "False\n"
     ]
    }
   ],
   "source": [
    "#PROBLEM 3.39\n",
    "def collision(x1,y1,r1,x2,y2,r2):\n",
    "    if (((x2-x1)**2 + (y2-y1)**2) <= ((r1+r2)**2)):\n",
    "        print(True)\n",
    "    else:\n",
    "        print(False)\n",
    "collision(0,0,3,0,5,3)\n",
    "collision(0,0,1.4,2,2,1.4)"
   ]
  },
  {
   "cell_type": "code",
   "execution_count": 31,
   "metadata": {},
   "outputs": [
    {
     "name": "stdout",
     "output_type": "stream",
     "text": [
      "Eleanor\n",
      "Evelyn\n",
      "Gavin\n"
     ]
    }
   ],
   "source": [
    "#PROBLEM 3.40\n",
    "def partition(lst):\n",
    "    for x in lst:\n",
    "        x.casefold()\n",
    "        if x[0] in 'abcdefghijklmABCDEFGHIJKLM':\n",
    "            print(x)\n",
    "partition(['Eleanor', 'Evelyn', 'Sammy', 'Owen', 'Gavin']) "
   ]
  },
  {
   "cell_type": "code",
   "execution_count": 33,
   "metadata": {},
   "outputs": [
    {
     "name": "stdout",
     "output_type": "stream",
     "text": [
      "Camus A\n"
     ]
    }
   ],
   "source": [
    "#PROBLEM 3.41\n",
    "def lastF(str1,str2):\n",
    "    print(str2,str1[0])\n",
    "lastF('Albert','Camus')"
   ]
  },
  {
   "cell_type": "code",
   "execution_count": 37,
   "metadata": {},
   "outputs": [
    {
     "name": "stdout",
     "output_type": "stream",
     "text": [
      "90.0\n",
      "60.0\n",
      "87.0\n",
      "11.0\n"
     ]
    }
   ],
   "source": [
    "#PROBLEM 3.42\n",
    "def avg(multiList):\n",
    "    sum=0\n",
    "    for x in multiList:\n",
    "        tmpLst=x\n",
    "        for i in tmpLst:\n",
    "            sum+=i        \n",
    "        print(sum/len(tmpLst))\n",
    "        sum =0\n",
    "\n",
    "multiList=[[95, 92, 86, 87], [66, 54], [89, 72, 100], [33, 0, 0]]\n",
    "avg(multiList)"
   ]
  },
  {
   "cell_type": "code",
   "execution_count": 38,
   "metadata": {},
   "outputs": [
    {
     "name": "stdout",
     "output_type": "stream",
     "text": [
      "True\n",
      "False\n"
     ]
    }
   ],
   "source": [
    "#PROBLEM 3.43\n",
    "def hit(x1,y1,r,x2,y2):\n",
    "    if (((x2-x1)**2 + (y2-y1)**2)<=r**2):\n",
    "        print(True)\n",
    "    else:\n",
    "        print(False)\n",
    "hit(0, 0, 3, 3, 0)\n",
    "hit(0, 0, 3, 4, 0)"
   ]
  },
  {
   "cell_type": "code",
   "execution_count": 40,
   "metadata": {},
   "outputs": [
    {
     "data": {
      "text/plain": [
       "1.0208700000000002"
      ]
     },
     "execution_count": 40,
     "metadata": {},
     "output_type": "execute_result"
    }
   ],
   "source": [
    "#PROBLEM 3.44\n",
    "def distance(time):\n",
    "#In m/s:\n",
    "    speedofsound=340.29\n",
    "#In k/s:\n",
    "    speedofsound=340.29/1000\n",
    "#Distance:\n",
    "    res=time*speedofsound\n",
    "    return res\n",
    "distance(3)"
   ]
  },
  {
   "cell_type": "code",
   "execution_count": null,
   "metadata": {},
   "outputs": [],
   "source": []
  }
 ],
 "metadata": {
  "kernelspec": {
   "display_name": "Python 3",
   "language": "python",
   "name": "python3"
  },
  "language_info": {
   "codemirror_mode": {
    "name": "ipython",
    "version": 3
   },
   "file_extension": ".py",
   "mimetype": "text/x-python",
   "name": "python",
   "nbconvert_exporter": "python",
   "pygments_lexer": "ipython3",
   "version": "3.7.0"
  }
 },
 "nbformat": 4,
 "nbformat_minor": 2
}
